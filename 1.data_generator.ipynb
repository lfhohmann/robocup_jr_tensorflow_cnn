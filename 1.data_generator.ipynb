{
 "cells": [
  {
   "cell_type": "code",
   "execution_count": 1,
   "source": [
    "from vectors import vectors\r\n",
    "from random import random\r\n",
    "import cairo\r\n",
    "import os"
   ],
   "outputs": [],
   "metadata": {}
  },
  {
   "cell_type": "code",
   "execution_count": 7,
   "source": [
    "OUTPUT_DIRPATH = \"data\\\\1.blueprints\""
   ],
   "outputs": [],
   "metadata": {}
  },
  {
   "cell_type": "code",
   "execution_count": 4,
   "source": [
    "def render_vector(vector_img, filepath):\r\n",
    "    WIDTH, HEIGHT = 512, 512\r\n",
    "\r\n",
    "    # Init\r\n",
    "    surface = cairo.ImageSurface(cairo.FORMAT_ARGB32, WIDTH, HEIGHT)\r\n",
    "    ctx = cairo.Context(surface)\r\n",
    "\r\n",
    "    # Normalizing the canvas\r\n",
    "    ctx.scale(WIDTH, HEIGHT)\r\n",
    "\r\n",
    "    # Draw background rectangle\r\n",
    "    bg_color_r = vector_img.background[\"color\"][0]\r\n",
    "    bg_color_g = vector_img.background[\"color\"][1]\r\n",
    "    bg_color_b = vector_img.background[\"color\"][2]\r\n",
    "\r\n",
    "    ctx.rectangle(0, 0, 1, 1)\r\n",
    "    ctx.set_source(cairo.SolidPattern(bg_color_r, bg_color_g, bg_color_b, alpha=1))\r\n",
    "    ctx.fill()\r\n",
    "\r\n",
    "    # Draw lines\r\n",
    "    for line in vector_img.lines:\r\n",
    "        ctx.move_to(line[\"points\"][0][0], line[\"points\"][0][1])\r\n",
    "\r\n",
    "        for point in line[\"points\"][1:]:\r\n",
    "            ctx.line_to(point[0], point[1])\r\n",
    "\r\n",
    "        line_color_r = line[\"color\"][0]\r\n",
    "        line_color_g = line[\"color\"][1]\r\n",
    "        line_color_b = line[\"color\"][2]\r\n",
    "\r\n",
    "        ctx.set_source_rgb(line_color_r, line_color_g, line_color_b)\r\n",
    "        ctx.set_line_width(0.1)\r\n",
    "        ctx.stroke()\r\n",
    "\r\n",
    "    # Draw markers\r\n",
    "    for marker in vector_img.markers:\r\n",
    "        ctx.rectangle(\r\n",
    "            marker[\"position\"][0] - 0.05, marker[\"position\"][1] - 0.05, 0.1, 0.1\r\n",
    "        )\r\n",
    "\r\n",
    "        marker_color_r = marker[\"color\"][0]\r\n",
    "        marker_color_g = marker[\"color\"][1]\r\n",
    "        marker_color_b = marker[\"color\"][2]\r\n",
    "\r\n",
    "        ctx.set_source(\r\n",
    "            cairo.SolidPattern(marker_color_r, marker_color_g, marker_color_b, alpha=1)\r\n",
    "        )\r\n",
    "        ctx.fill()\r\n",
    "\r\n",
    "    # Save to PNG\r\n",
    "    surface.write_to_png(filepath)"
   ],
   "outputs": [],
   "metadata": {}
  },
  {
   "cell_type": "code",
   "execution_count": 8,
   "source": [
    "# Render each vector image\r\n",
    "for key in vectors:\r\n",
    "    filename = f\"{key}.png\"\r\n",
    "    filepath = os.path.join(OUTPUT_DIRPATH, filename)\r\n",
    "\r\n",
    "    render_vector(vectors[key], filepath)"
   ],
   "outputs": [],
   "metadata": {}
  }
 ],
 "metadata": {
  "orig_nbformat": 4,
  "language_info": {
   "name": "python",
   "version": "3.9.5",
   "mimetype": "text/x-python",
   "codemirror_mode": {
    "name": "ipython",
    "version": 3
   },
   "pygments_lexer": "ipython3",
   "nbconvert_exporter": "python",
   "file_extension": ".py"
  },
  "kernelspec": {
   "name": "python3",
   "display_name": "Python 3.9.5 64-bit"
  },
  "interpreter": {
   "hash": "f47a5ab19bc45083382657f6f2388be666e731531973f00c5e26ff8c66213130"
  }
 },
 "nbformat": 4,
 "nbformat_minor": 2
}