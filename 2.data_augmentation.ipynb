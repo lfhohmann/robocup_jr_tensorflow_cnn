{
 "cells": [
  {
   "cell_type": "code",
   "execution_count": 1,
   "source": [
    "from random import randint\r\n",
    "import numpy as np\r\n",
    "import cv2 as cv\r\n",
    "import shutil\r\n",
    "import os"
   ],
   "outputs": [],
   "metadata": {}
  },
  {
   "cell_type": "code",
   "execution_count": 2,
   "source": [
    "INPUT_DIRPATH = \"data\\\\1.blueprints\"\r\n",
    "OUTPUT_DIRPATH = \"data\\\\2.augmented\"\r\n",
    "\r\n",
    "IMAGES_PER_CLASS = 1000\r\n",
    "\r\n",
    "ROTATION_RANGE = 10\r\n",
    "XY_OFFSET_RANGE = 15\r\n",
    "CROP_AMOUNT = 150\r\n",
    "\r\n",
    "NOISE_BRIGHTNESS_AMOUNT = 10\r\n",
    "NOISE_COLOR_AMOUNT = 5"
   ],
   "outputs": [],
   "metadata": {}
  },
  {
   "cell_type": "code",
   "execution_count": 3,
   "source": [
    "def rotate_image(img, angle):\r\n",
    "    \"\"\"Rotate the image\"\"\"\r\n",
    "    \r\n",
    "    img_center = tuple(np.array(img.shape[1::-1]) / 2)\r\n",
    "    rot_mat = cv.getRotationMatrix2D(img_center, angle, 1.0)\r\n",
    "\r\n",
    "    return cv.warpAffine(img, rot_mat, img.shape[1::-1], flags=cv.INTER_LINEAR)\r\n",
    "\r\n",
    "\r\n",
    "def crop_image(img, crop_amount, x, y):\r\n",
    "    \"\"\"Crop and offset the image\"\"\"\r\n",
    "\r\n",
    "    x0 = crop_amount + x\r\n",
    "    x1 = img.shape[0] - crop_amount + x\r\n",
    "\r\n",
    "    y0 = crop_amount + y\r\n",
    "    y1 = img.shape[1] - crop_amount + y\r\n",
    "\r\n",
    "    return img[x0:x1, y0:y1]\r\n",
    "\r\n",
    "\r\n",
    "def add_noise(img, brightness_amount, color_amount):\r\n",
    "    \"\"\"Add random noise to each pixel\"\"\"\r\n",
    "\r\n",
    "    for i in range(img.shape[0]):\r\n",
    "        for j in range(img.shape[1]):\r\n",
    "            rnd_brightness = randint(-brightness_amount, brightness_amount)\r\n",
    "\r\n",
    "            for k in range(img.shape[2]):\r\n",
    "                rnd_color = randint(-color_amount, color_amount)\r\n",
    "\r\n",
    "                if img[i][j][k] + rnd_color + rnd_brightness > 255:\r\n",
    "                    img[i][j][k] = 255\r\n",
    "\r\n",
    "                elif img[i][j][k] + rnd_color + rnd_brightness < 0:\r\n",
    "                    img[i][j][k] = 0\r\n",
    "\r\n",
    "                else:\r\n",
    "                    img[i][j][k] += rnd_color + rnd_brightness\r\n",
    "\r\n",
    "    return img"
   ],
   "outputs": [],
   "metadata": {}
  },
  {
   "cell_type": "code",
   "execution_count": 4,
   "source": [
    "for entry in os.scandir(INPUT_DIRPATH):\r\n",
    "    if entry.is_file():\r\n",
    "        # Delete output directories if they already exist\r\n",
    "        out_dir_name = os.path.splitext(os.path.basename(entry.path))[0]\r\n",
    "        out_dir_path = os.path.join(OUTPUT_DIRPATH, out_dir_name)\r\n",
    "\r\n",
    "        if os.path.exists(out_dir_path):\r\n",
    "            shutil.rmtree(out_dir_path)\r\n",
    "\r\n",
    "        # Create output directories\r\n",
    "        os.makedirs(out_dir_path, exist_ok=True)\r\n",
    "        print(os.path.basename(out_dir_path))\r\n",
    "\r\n",
    "        # Read blueprint image\r\n",
    "        src_img = cv.imread(entry.path)\r\n",
    "\r\n",
    "        # Render blueprint with random modifications\r\n",
    "        for i in range(IMAGES_PER_CLASS):\r\n",
    "            out_file_path = os.path.join(out_dir_path, f\"{i}.png\")\r\n",
    "\r\n",
    "            img = rotate_image(src_img, randint(-ROTATION_RANGE, ROTATION_RANGE))\r\n",
    "            img = crop_image(\r\n",
    "                img,\r\n",
    "                CROP_AMOUNT,\r\n",
    "                randint(-XY_OFFSET_RANGE, XY_OFFSET_RANGE),\r\n",
    "                randint(-XY_OFFSET_RANGE, XY_OFFSET_RANGE),\r\n",
    "            )\r\n",
    "            img = cv.resize(img, (16, 16))\r\n",
    "            img = add_noise(img, NOISE_BRIGHTNESS_AMOUNT, NOISE_COLOR_AMOUNT)\r\n",
    "\r\n",
    "            cv.imwrite(out_file_path, img)"
   ],
   "outputs": [
    {
     "output_type": "stream",
     "name": "stdout",
     "text": [
      "blank\n",
      "corner_left_90\n",
      "corner_right_90\n"
     ]
    }
   ],
   "metadata": {}
  }
 ],
 "metadata": {
  "orig_nbformat": 4,
  "language_info": {
   "name": "python",
   "version": "3.9.5",
   "mimetype": "text/x-python",
   "codemirror_mode": {
    "name": "ipython",
    "version": 3
   },
   "pygments_lexer": "ipython3",
   "nbconvert_exporter": "python",
   "file_extension": ".py"
  },
  "kernelspec": {
   "name": "python3",
   "display_name": "Python 3.9.5 64-bit"
  },
  "interpreter": {
   "hash": "f47a5ab19bc45083382657f6f2388be666e731531973f00c5e26ff8c66213130"
  }
 },
 "nbformat": 4,
 "nbformat_minor": 2
}